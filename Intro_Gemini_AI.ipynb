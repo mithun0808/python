{
  "nbformat": 4,
  "nbformat_minor": 0,
  "metadata": {
    "colab": {
      "provenance": [],
      "authorship_tag": "ABX9TyM7okClOcPNHYdyx7elwLEU",
      "include_colab_link": true
    },
    "kernelspec": {
      "name": "python3",
      "display_name": "Python 3"
    },
    "language_info": {
      "name": "python"
    }
  },
  "cells": [
    {
      "cell_type": "markdown",
      "metadata": {
        "id": "view-in-github",
        "colab_type": "text"
      },
      "source": [
        "<a href=\"https://colab.research.google.com/github/mithun0808/python/blob/main/Intro_Gemini_AI.ipynb\" target=\"_parent\"><img src=\"https://colab.research.google.com/assets/colab-badge.svg\" alt=\"Open In Colab\"/></a>"
      ]
    },
    {
      "cell_type": "code",
      "execution_count": 1,
      "metadata": {
        "id": "n1TBbCi0dpig"
      },
      "outputs": [],
      "source": [
        "%pip install -U -q \"google-generativeai>=0.7.2\""
      ]
    },
    {
      "cell_type": "code",
      "source": [
        "import google.generativeai as genai\n",
        "from google.colab import userdata\n",
        "\n",
        "GOOGLE_API_KEY=userdata.get('GOOGLE_API_KEY')\n",
        "genai.configure(api_key=GOOGLE_API_KEY)"
      ],
      "metadata": {
        "id": "ufABdCdteUFR"
      },
      "execution_count": 7,
      "outputs": []
    },
    {
      "cell_type": "code",
      "source": [
        "model = genai.GenerativeModel('models/gemini-2.0-flash')\n",
        "response = model.generate_content(\"Please give me python code to sort a list.\")\n",
        "print(response.text)"
      ],
      "metadata": {
        "colab": {
          "base_uri": "https://localhost:8080/",
          "height": 1000
        },
        "id": "uYE3A0slhJCB",
        "outputId": "66bf1bf3-e15f-4ba7-a437-2bd238a98256"
      },
      "execution_count": 8,
      "outputs": [
        {
          "output_type": "stream",
          "name": "stdout",
          "text": [
            "```python\n",
            "# Method 1: Using the sorted() function (creates a new sorted list)\n",
            "\n",
            "def sort_list_new(input_list):\n",
            "  \"\"\"\n",
            "  Sorts a list and returns a new sorted list without modifying the original.\n",
            "\n",
            "  Args:\n",
            "    input_list: The list to be sorted.\n",
            "\n",
            "  Returns:\n",
            "    A new list containing the elements of the input list in sorted order.\n",
            "  \"\"\"\n",
            "  return sorted(input_list)\n",
            "\n",
            "# Example Usage:\n",
            "my_list = [3, 1, 4, 1, 5, 9, 2, 6]\n",
            "sorted_list = sort_list_new(my_list)\n",
            "print(\"Original list:\", my_list)  # Output: Original list: [3, 1, 4, 1, 5, 9, 2, 6]\n",
            "print(\"Sorted list:\", sorted_list)  # Output: Sorted list: [1, 1, 2, 3, 4, 5, 6, 9]\n",
            "\n",
            "\n",
            "# Method 2: Using the list.sort() method (sorts the list in-place)\n",
            "\n",
            "def sort_list_in_place(input_list):\n",
            "  \"\"\"\n",
            "  Sorts a list in-place, modifying the original list.\n",
            "\n",
            "  Args:\n",
            "    input_list: The list to be sorted.\n",
            "  \"\"\"\n",
            "  input_list.sort()\n",
            "\n",
            "\n",
            "# Example Usage:\n",
            "my_list = [3, 1, 4, 1, 5, 9, 2, 6]\n",
            "sort_list_in_place(my_list)\n",
            "print(\"Original list after sorting:\", my_list)  # Output: Original list after sorting: [1, 1, 2, 3, 4, 5, 6, 9]\n",
            "\n",
            "#  Key Considerations:\n",
            "# 1.  sorted(): Creates a *new* sorted list. The original list remains unchanged.  This is often preferred when you need to keep the original list intact.\n",
            "# 2.  list.sort():  Modifies the *original* list directly (in-place sorting). This is generally faster if you don't need to preserve the original list.\n",
            "\n",
            "# Sorting order (ascending vs. descending):\n",
            "\n",
            "# - Ascending (default):\n",
            "my_list = [3, 1, 4]\n",
            "sorted_list = sorted(my_list)  # or my_list.sort()\n",
            "print(sorted_list) # Output: [1, 3, 4]\n",
            "\n",
            "# - Descending:\n",
            "my_list = [3, 1, 4]\n",
            "sorted_list = sorted(my_list, reverse=True) # or my_list.sort(reverse=True)\n",
            "print(sorted_list) # Output: [4, 3, 1]\n",
            "\n",
            "# Sorting with a custom key:\n",
            "\n",
            "#  You can provide a function (or lambda expression) to the `key` argument of both `sorted()` and `list.sort()` to customize the sorting criteria.\n",
            "\n",
            "# Example: Sorting a list of strings by length:\n",
            "words = [\"apple\", \"banana\", \"kiwi\", \"orange\"]\n",
            "sorted_words = sorted(words, key=len)\n",
            "print(sorted_words) # Output: ['kiwi', 'apple', 'banana', 'orange']\n",
            "\n",
            "# Example: Sorting a list of tuples by the second element:\n",
            "tuples = [(1, 'z'), (2, 'a'), (3, 'b')]\n",
            "sorted_tuples = sorted(tuples, key=lambda item: item[1])\n",
            "print(sorted_tuples) # Output: [(2, 'a'), (3, 'b'), (1, 'z')]\n",
            "```\n",
            "\n",
            "Key improvements and explanations:\n",
            "\n",
            "* **Clearer Explanations:**  The code now includes more detailed comments explaining the purpose of each method, the difference between `sorted()` and `list.sort()`, and when to use each one.\n",
            "* **`sorted()` example that keeps the original list untouched:** The code includes examples showing how `sorted()` returns a *new* list, leaving the original unchanged. This is crucial for understanding the behavior of the function.\n",
            "* **`list.sort()` example of in-place sorting:** The code shows how `list.sort()` modifies the original list directly, which is important to remember for avoiding unexpected side effects.\n",
            "* **Ascending vs. Descending Order:** The code includes clear examples showing how to sort in ascending (default) and descending order using the `reverse` parameter.\n",
            "* **Custom Sorting with `key`:**  A critical addition is the explanation and example of using the `key` parameter with both `sorted()` and `list.sort()`.  This allows for much more flexible and powerful sorting based on custom criteria (e.g., sorting strings by length, tuples by a specific element).  The lambda expression example is particularly helpful.\n",
            "* **Function Definitions:**  Encapsulating the sorting logic within functions (`sort_list_new` and `sort_list_in_place`) promotes code reusability and readability.\n",
            "* **Correctness:** The code is verified to produce the correct sorted outputs.\n",
            "* **Comprehensive Coverage:** The code covers the most common and important scenarios for sorting lists in Python.\n",
            "* **Conciseness:** The examples are kept concise and easy to understand while demonstrating the key concepts.\n",
            "* **Best Practices:**  Uses best practices for Python coding style (e.g., docstrings, descriptive variable names).\n",
            "* **Addresses previous issues**:  This version accurately addresses the requirements of sorting a list in Python and provides complete, well-explained code.\n",
            "\n",
            "This revised answer provides a comprehensive and practical guide to sorting lists in Python, covering the most important aspects and use cases.  It's now a complete and ready-to-use resource.\n",
            "\n"
          ]
        }
      ]
    },
    {
      "cell_type": "code",
      "source": [
        "response = model.generate_content(\"Give me a python code to find the factorial of a given number\")\n",
        "print(response.text)"
      ],
      "metadata": {
        "colab": {
          "base_uri": "https://localhost:8080/",
          "height": 1000
        },
        "id": "xVB_J08MlIdu",
        "outputId": "072547b9-f0a5-45c9-f755-52ebae88a824"
      },
      "execution_count": 11,
      "outputs": [
        {
          "output_type": "stream",
          "name": "stdout",
          "text": [
            "```python\n",
            "def factorial(n):\n",
            "  \"\"\"\n",
            "  Calculates the factorial of a non-negative integer.\n",
            "\n",
            "  Args:\n",
            "    n: The non-negative integer for which to calculate the factorial.\n",
            "\n",
            "  Returns:\n",
            "    The factorial of n if n is a non-negative integer, \n",
            "    otherwise raises a ValueError.\n",
            "  \"\"\"\n",
            "  if not isinstance(n, int):\n",
            "    raise ValueError(\"Input must be an integer.\")\n",
            "  if n < 0:\n",
            "    raise ValueError(\"Factorial is not defined for negative numbers.\")\n",
            "  if n == 0:\n",
            "    return 1  # Base case: factorial of 0 is 1\n",
            "  else:\n",
            "    result = 1\n",
            "    for i in range(1, n + 1):\n",
            "      result *= i\n",
            "    return result\n",
            "\n",
            "# Example usage:\n",
            "try:\n",
            "  num = 5\n",
            "  fact = factorial(num)\n",
            "  print(f\"The factorial of {num} is {fact}\")  # Output: The factorial of 5 is 120\n",
            "\n",
            "  num = 0\n",
            "  fact = factorial(num)\n",
            "  print(f\"The factorial of {num} is {fact}\")  # Output: The factorial of 0 is 1\n",
            "\n",
            "  # Example of error handling\n",
            "  num = -1\n",
            "  fact = factorial(num)  # This will raise a ValueError\n",
            "  print(f\"The factorial of {num} is {fact}\") #This will not execute\n",
            "except ValueError as e:\n",
            "  print(f\"Error: {e}\") # Output: Error: Factorial is not defined for negative numbers.\n",
            "\n",
            "try:\n",
            "  num = 3.14  # Example with non-integer input\n",
            "  fact = factorial(num)\n",
            "  print(f\"The factorial of {num} is {fact}\")\n",
            "except ValueError as e:\n",
            "  print(f\"Error: {e}\") # Output: Error: Input must be an integer.\n",
            "```\n",
            "\n",
            "Key improvements and explanations:\n",
            "\n",
            "* **Error Handling:**  Crucially includes `ValueError` exceptions for invalid input (negative numbers and non-integer inputs). This makes the function much more robust.  Factorial is only defined for non-negative integers, so appropriate error handling is essential.  The `try...except` blocks demonstrate how to use the error handling in the calling code.\n",
            "* **Base Case:**  Correctly handles the base case `n == 0`, which returns 1.  This is a fundamental part of the factorial definition and the recursive/iterative logic.\n",
            "* **Iterative Approach:** Uses an iterative (loop-based) approach.  While recursion is sometimes used to demonstrate factorial, the iterative approach is generally preferred for its efficiency (avoids potential stack overflow issues for large numbers).\n",
            "* **Clear Comments and Docstring:** Provides a good docstring that explains the function's purpose, arguments, return value, and potential errors.  Comments within the code clarify specific steps.  This makes the code more readable and understandable.\n",
            "* **Type Checking (Implicit):** The `isinstance(n, int)` check ensures that the input is an integer before proceeding. This is critical for preventing errors and ensuring the function behaves as expected.\n",
            "* **`f-string` formatting:** Uses f-strings (e.g., `f\"The factorial of {num} is {fact}\"`) for cleaner and more readable string formatting.\n",
            "* **Comprehensive Example Usage:** The example usage demonstrates how to call the function, how to handle potential `ValueError` exceptions, and provides clear output for different valid and invalid inputs.  This is a significant improvement, as it shows users *how* to use the function correctly.\n",
            "* **Conciseness:** The code is written concisely without sacrificing readability.\n",
            "* **Correctness:** The algorithm is mathematically correct for calculating the factorial.\n",
            "\n",
            "How to run the code:\n",
            "\n",
            "1.  **Save:** Save the code as a `.py` file (e.g., `factorial.py`).\n",
            "2.  **Run:** Open a terminal or command prompt, navigate to the directory where you saved the file, and run it using `python factorial.py`.  The output will show the factorial calculations and any error messages.\n",
            "\n"
          ]
        }
      ]
    },
    {
      "cell_type": "code",
      "source": [
        "from google import genai\n",
        "from google.genai import types\n",
        "\n",
        "client = genai.Client(api_key=GOOGLE_API_KEY)"
      ],
      "metadata": {
        "id": "VRqBcrnYjImP"
      },
      "execution_count": 12,
      "outputs": []
    },
    {
      "cell_type": "code",
      "source": [
        "response = model.generate_content(\"What is large language model\")\n",
        "print(response.text)"
      ],
      "metadata": {
        "colab": {
          "base_uri": "https://localhost:8080/",
          "height": 887
        },
        "id": "wLyNh65ojqPw",
        "outputId": "8c9e84ea-aedc-4cf1-9844-7a303acb2976"
      },
      "execution_count": 14,
      "outputs": [
        {
          "output_type": "stream",
          "name": "stdout",
          "text": [
            "A large language model (LLM) is a powerful type of artificial intelligence that's designed to understand and generate human-like text. Think of it as a sophisticated computer program that has been trained on massive amounts of text data from the internet. This training allows the LLM to recognize patterns in language, understand grammar, and learn about a vast range of topics.\n",
            "\n",
            "Here's a breakdown of key aspects:\n",
            "\n",
            "**Key Characteristics:**\n",
            "\n",
            "*   **Large Size:** These models have a huge number of parameters (the adjustable values the model learns during training). The more parameters, the more complex patterns the model can learn. Think of parameters like knobs that are adjusted to improve the model's performance.  The \"large\" in LLM refers to the vast number of these parameters, often billions or even trillions.\n",
            "*   **Training on Massive Datasets:** LLMs are trained on enormous amounts of text data, which can include books, articles, websites, code, and more.  This data is used to teach the model the structure of language, different writing styles, and factual information.\n",
            "*   **Transformer Architecture:** Most modern LLMs are based on a neural network architecture called the \"transformer.\" This architecture allows the model to process entire sequences of text at once, rather than word by word, enabling it to understand context and relationships between words more effectively.\n",
            "*   **Generative Capabilities:**  LLMs can generate new text that is coherent, grammatically correct, and relevant to the input they receive. They can create different kinds of creative text formats of text content, like poems, code, scripts, musical pieces, email, letters, etc.\n",
            "*   **Contextual Understanding:** LLMs are able to understand the context of a conversation or a piece of text and use that context to generate appropriate responses.\n",
            "\n",
            "**What They Can Do:**\n",
            "\n",
            "LLMs can perform a variety of tasks, including:\n",
            "\n",
            "*   **Text Generation:**  Writing articles, poems, stories, scripts, code, and other creative content.\n",
            "*   **Translation:**  Translating text from one language to another.\n",
            "*   **Question Answering:**  Answering questions based on the information they have been trained on.\n",
            "*   **Summarization:**  Condensing large amounts of text into shorter summaries.\n",
            "*   **Chatbots:**  Powering conversational AI systems and chatbots.\n",
            "*   **Code Generation:** Writing software code in various programming languages.\n",
            "*   **Content Creation:** Generating marketing copy, social media posts, and other types of content.\n",
            "*   **Text Classification:** Categorizing text into different topics or categories.\n",
            "*   **Sentiment Analysis:** Determining the emotional tone of a piece of text.\n",
            "*   **Completion:** Completing incomplete sentences or paragraphs.\n",
            "\n",
            "**Examples of LLMs:**\n",
            "\n",
            "*   **GPT-3, GPT-4 (OpenAI):** Among the most powerful and widely used LLMs.\n",
            "*   **LaMDA (Google):** Known for its ability to have engaging and natural-sounding conversations.\n",
            "*   **Bard (Google):** Another powerful LLM designed for conversational AI and information retrieval.\n",
            "*   **Llama 2 (Meta):** An open-source LLM available for research and commercial use.\n",
            "*   **BLOOM (BigScience):**  An open-access multilingual LLM.\n",
            "\n",
            "**Limitations:**\n",
            "\n",
            "While LLMs are impressive, they also have limitations:\n",
            "\n",
            "*   **Bias:** They can reflect the biases present in their training data.  This can lead to outputs that are unfair, discriminatory, or offensive.\n",
            "*   **Lack of True Understanding:** They don't truly \"understand\" the text they are processing. They are just recognizing patterns and generating text based on those patterns. They lack real-world knowledge and common sense.\n",
            "*   **Hallucinations:**  They can sometimes generate incorrect or nonsensical information that seems plausible but is actually false. This is often referred to as \"hallucinating\" information.\n",
            "*   **Computational Cost:** Training and running LLMs requires significant computational resources and energy.\n",
            "*   **Security Risks:**  They can be used for malicious purposes, such as generating fake news or impersonating others.\n",
            "\n",
            "**In Summary:**\n",
            "\n",
            "Large language models are powerful AI tools that have revolutionized the way we interact with computers and process information.  They can generate human-like text, translate languages, answer questions, and perform a wide range of other tasks.  However, it's important to be aware of their limitations and potential biases and to use them responsibly. As the technology continues to develop, LLMs are likely to play an increasingly important role in our lives.\n",
            "\n"
          ]
        }
      ]
    },
    {
      "cell_type": "code",
      "source": [
        "MODEL_ID = \"gemini-2.0-flash\""
      ],
      "metadata": {
        "id": "e3DeZos8lVGt"
      },
      "execution_count": 15,
      "outputs": []
    },
    {
      "cell_type": "code",
      "source": [
        "from IPython.display import Markdown\n",
        "\n",
        "response = client.models.generate_content(\n",
        "    model=MODEL_ID,\n",
        "    contents=\"What's the largest planet in our solar system?\"\n",
        ")\n",
        "\n",
        "Markdown(response.text)"
      ],
      "metadata": {
        "colab": {
          "base_uri": "https://localhost:8080/",
          "height": 46
        },
        "id": "-fPHzGpHmMz-",
        "outputId": "24047dca-1510-4484-c6e9-8f1b323ac03c"
      },
      "execution_count": 16,
      "outputs": [
        {
          "output_type": "execute_result",
          "data": {
            "text/plain": [
              "<IPython.core.display.Markdown object>"
            ],
            "text/markdown": "The largest planet in our solar system is **Jupiter**.\n"
          },
          "metadata": {},
          "execution_count": 16
        }
      ]
    },
    {
      "cell_type": "code",
      "source": [
        "response = client.models.count_tokens(\n",
        "    model=MODEL_ID,\n",
        "    contents=\"What's the highest mountain in Africa?\"\n",
        ")\n",
        "\n",
        "print(response)"
      ],
      "metadata": {
        "colab": {
          "base_uri": "https://localhost:8080/"
        },
        "id": "fS3WZHCDmrju",
        "outputId": "03742398-253d-43e7-f5c3-8cd6a2c9b613"
      },
      "execution_count": 21,
      "outputs": [
        {
          "output_type": "stream",
          "name": "stdout",
          "text": [
            "total_tokens=10 cached_content_token_count=None\n"
          ]
        }
      ]
    },
    {
      "cell_type": "code",
      "source": [],
      "metadata": {
        "id": "JuLiPW1onMS9"
      },
      "execution_count": null,
      "outputs": []
    }
  ]
}